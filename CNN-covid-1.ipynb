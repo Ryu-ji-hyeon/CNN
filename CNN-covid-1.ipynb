{
  "cells": [
    {
      "cell_type": "code",
      "execution_count": 1,
      "metadata": {
        "colab": {
          "base_uri": "https://localhost:8080/",
          "height": 95
        },
        "id": "TbEZeCoAgZLa",
        "outputId": "22e593db-b52d-4464-b367-edd42669de5d"
      },
      "outputs": [
        {
          "output_type": "display_data",
          "data": {
            "text/plain": [
              "<IPython.core.display.HTML object>"
            ],
            "text/html": [
              "\n",
              "     <input type=\"file\" id=\"files-7c23985f-92de-4476-8043-59f73aee0fa3\" name=\"files[]\" multiple disabled\n",
              "        style=\"border:none\" />\n",
              "     <output id=\"result-7c23985f-92de-4476-8043-59f73aee0fa3\">\n",
              "      Upload widget is only available when the cell has been executed in the\n",
              "      current browser session. Please rerun this cell to enable.\n",
              "      </output>\n",
              "      <script>// Copyright 2017 Google LLC\n",
              "//\n",
              "// Licensed under the Apache License, Version 2.0 (the \"License\");\n",
              "// you may not use this file except in compliance with the License.\n",
              "// You may obtain a copy of the License at\n",
              "//\n",
              "//      http://www.apache.org/licenses/LICENSE-2.0\n",
              "//\n",
              "// Unless required by applicable law or agreed to in writing, software\n",
              "// distributed under the License is distributed on an \"AS IS\" BASIS,\n",
              "// WITHOUT WARRANTIES OR CONDITIONS OF ANY KIND, either express or implied.\n",
              "// See the License for the specific language governing permissions and\n",
              "// limitations under the License.\n",
              "\n",
              "/**\n",
              " * @fileoverview Helpers for google.colab Python module.\n",
              " */\n",
              "(function(scope) {\n",
              "function span(text, styleAttributes = {}) {\n",
              "  const element = document.createElement('span');\n",
              "  element.textContent = text;\n",
              "  for (const key of Object.keys(styleAttributes)) {\n",
              "    element.style[key] = styleAttributes[key];\n",
              "  }\n",
              "  return element;\n",
              "}\n",
              "\n",
              "// Max number of bytes which will be uploaded at a time.\n",
              "const MAX_PAYLOAD_SIZE = 100 * 1024;\n",
              "\n",
              "function _uploadFiles(inputId, outputId) {\n",
              "  const steps = uploadFilesStep(inputId, outputId);\n",
              "  const outputElement = document.getElementById(outputId);\n",
              "  // Cache steps on the outputElement to make it available for the next call\n",
              "  // to uploadFilesContinue from Python.\n",
              "  outputElement.steps = steps;\n",
              "\n",
              "  return _uploadFilesContinue(outputId);\n",
              "}\n",
              "\n",
              "// This is roughly an async generator (not supported in the browser yet),\n",
              "// where there are multiple asynchronous steps and the Python side is going\n",
              "// to poll for completion of each step.\n",
              "// This uses a Promise to block the python side on completion of each step,\n",
              "// then passes the result of the previous step as the input to the next step.\n",
              "function _uploadFilesContinue(outputId) {\n",
              "  const outputElement = document.getElementById(outputId);\n",
              "  const steps = outputElement.steps;\n",
              "\n",
              "  const next = steps.next(outputElement.lastPromiseValue);\n",
              "  return Promise.resolve(next.value.promise).then((value) => {\n",
              "    // Cache the last promise value to make it available to the next\n",
              "    // step of the generator.\n",
              "    outputElement.lastPromiseValue = value;\n",
              "    return next.value.response;\n",
              "  });\n",
              "}\n",
              "\n",
              "/**\n",
              " * Generator function which is called between each async step of the upload\n",
              " * process.\n",
              " * @param {string} inputId Element ID of the input file picker element.\n",
              " * @param {string} outputId Element ID of the output display.\n",
              " * @return {!Iterable<!Object>} Iterable of next steps.\n",
              " */\n",
              "function* uploadFilesStep(inputId, outputId) {\n",
              "  const inputElement = document.getElementById(inputId);\n",
              "  inputElement.disabled = false;\n",
              "\n",
              "  const outputElement = document.getElementById(outputId);\n",
              "  outputElement.innerHTML = '';\n",
              "\n",
              "  const pickedPromise = new Promise((resolve) => {\n",
              "    inputElement.addEventListener('change', (e) => {\n",
              "      resolve(e.target.files);\n",
              "    });\n",
              "  });\n",
              "\n",
              "  const cancel = document.createElement('button');\n",
              "  inputElement.parentElement.appendChild(cancel);\n",
              "  cancel.textContent = 'Cancel upload';\n",
              "  const cancelPromise = new Promise((resolve) => {\n",
              "    cancel.onclick = () => {\n",
              "      resolve(null);\n",
              "    };\n",
              "  });\n",
              "\n",
              "  // Wait for the user to pick the files.\n",
              "  const files = yield {\n",
              "    promise: Promise.race([pickedPromise, cancelPromise]),\n",
              "    response: {\n",
              "      action: 'starting',\n",
              "    }\n",
              "  };\n",
              "\n",
              "  cancel.remove();\n",
              "\n",
              "  // Disable the input element since further picks are not allowed.\n",
              "  inputElement.disabled = true;\n",
              "\n",
              "  if (!files) {\n",
              "    return {\n",
              "      response: {\n",
              "        action: 'complete',\n",
              "      }\n",
              "    };\n",
              "  }\n",
              "\n",
              "  for (const file of files) {\n",
              "    const li = document.createElement('li');\n",
              "    li.append(span(file.name, {fontWeight: 'bold'}));\n",
              "    li.append(span(\n",
              "        `(${file.type || 'n/a'}) - ${file.size} bytes, ` +\n",
              "        `last modified: ${\n",
              "            file.lastModifiedDate ? file.lastModifiedDate.toLocaleDateString() :\n",
              "                                    'n/a'} - `));\n",
              "    const percent = span('0% done');\n",
              "    li.appendChild(percent);\n",
              "\n",
              "    outputElement.appendChild(li);\n",
              "\n",
              "    const fileDataPromise = new Promise((resolve) => {\n",
              "      const reader = new FileReader();\n",
              "      reader.onload = (e) => {\n",
              "        resolve(e.target.result);\n",
              "      };\n",
              "      reader.readAsArrayBuffer(file);\n",
              "    });\n",
              "    // Wait for the data to be ready.\n",
              "    let fileData = yield {\n",
              "      promise: fileDataPromise,\n",
              "      response: {\n",
              "        action: 'continue',\n",
              "      }\n",
              "    };\n",
              "\n",
              "    // Use a chunked sending to avoid message size limits. See b/62115660.\n",
              "    let position = 0;\n",
              "    do {\n",
              "      const length = Math.min(fileData.byteLength - position, MAX_PAYLOAD_SIZE);\n",
              "      const chunk = new Uint8Array(fileData, position, length);\n",
              "      position += length;\n",
              "\n",
              "      const base64 = btoa(String.fromCharCode.apply(null, chunk));\n",
              "      yield {\n",
              "        response: {\n",
              "          action: 'append',\n",
              "          file: file.name,\n",
              "          data: base64,\n",
              "        },\n",
              "      };\n",
              "\n",
              "      let percentDone = fileData.byteLength === 0 ?\n",
              "          100 :\n",
              "          Math.round((position / fileData.byteLength) * 100);\n",
              "      percent.textContent = `${percentDone}% done`;\n",
              "\n",
              "    } while (position < fileData.byteLength);\n",
              "  }\n",
              "\n",
              "  // All done.\n",
              "  yield {\n",
              "    response: {\n",
              "      action: 'complete',\n",
              "    }\n",
              "  };\n",
              "}\n",
              "\n",
              "scope.google = scope.google || {};\n",
              "scope.google.colab = scope.google.colab || {};\n",
              "scope.google.colab._files = {\n",
              "  _uploadFiles,\n",
              "  _uploadFilesContinue,\n",
              "};\n",
              "})(self);\n",
              "</script> "
            ]
          },
          "metadata": {}
        },
        {
          "output_type": "stream",
          "name": "stdout",
          "text": [
            "Saving covid.zip to covid.zip\n",
            "2.0.1+cu118\n"
          ]
        }
      ],
      "source": [
        "import numpy as np\n",
        "import matplotlib.pyplot as plt\n",
        "\n",
        "import torch\n",
        "import torch.nn as nn\n",
        "from torch.autograd import Variable\n",
        "import torch.nn.functional as F\n",
        "\n",
        "import torchvision\n",
        "import torchvision.transforms as transforms\n",
        "from torch.utils.data import Dataset, DataLoader\n",
        "\n",
        "import os\n",
        "import time\n",
        "import copy\n",
        "import glob\n",
        "import cv2\n",
        "import shutil\n",
        "\n",
        "import torchvision.models as models\n",
        "\n",
        "import torch.optim as optim\n",
        "\n",
        "\n",
        "\n",
        "from google.colab import files \n",
        "file_uploaded=files.upload()   \n"
      ]
    },
    {
      "cell_type": "code",
      "execution_count": 2,
      "metadata": {
        "colab": {
          "base_uri": "https://localhost:8080/"
        },
        "id": "VlpJbFamBS3e",
        "outputId": "9a595774-b9ac-4b72-e4df-542e955c8f0f"
      },
      "outputs": [
        {
          "output_type": "stream",
          "name": "stdout",
          "text": [
            "Archive:  covid.zip\n",
            "   creating: covid/test/\n",
            "   creating: covid/test/covid/\n",
            "  inflating: covid/test/covid/2covid (1).jpeg  \n",
            "  inflating: covid/test/covid/2covid (1).jpg  \n",
            "  inflating: covid/test/covid/2covid (1).png  \n",
            "  inflating: covid/test/covid/2covid (10).jpeg  \n",
            "  inflating: covid/test/covid/2covid (10).jpg  \n",
            "  inflating: covid/test/covid/2covid (10).png  \n",
            "  inflating: covid/test/covid/2covid (11).jpeg  \n",
            "  inflating: covid/test/covid/2covid (11).jpg  \n",
            "  inflating: covid/test/covid/2covid (11).png  \n",
            "  inflating: covid/test/covid/2covid (12).jpeg  \n",
            "  inflating: covid/test/covid/2covid (12).jpg  \n",
            "  inflating: covid/test/covid/2covid (13).jpeg  \n",
            "  inflating: covid/test/covid/2covid (2).jpeg  \n",
            "  inflating: covid/test/covid/2covid (2).jpg  \n",
            "  inflating: covid/test/covid/2covid (2).png  \n",
            "  inflating: covid/test/covid/2covid (3).jpeg  \n",
            "  inflating: covid/test/covid/2covid (3).jpg  \n",
            "  inflating: covid/test/covid/2covid (3).png  \n",
            "  inflating: covid/test/covid/2covid (4).jpeg  \n",
            "  inflating: covid/test/covid/2covid (4).jpg  \n",
            "  inflating: covid/test/covid/2covid (4).png  \n",
            "  inflating: covid/test/covid/2covid (5).jpeg  \n",
            "  inflating: covid/test/covid/2covid (5).jpg  \n",
            "  inflating: covid/test/covid/2covid (5).png  \n",
            "  inflating: covid/test/covid/2covid (6).jpeg  \n",
            "  inflating: covid/test/covid/2covid (6).jpg  \n",
            "  inflating: covid/test/covid/2covid (6).png  \n",
            "  inflating: covid/test/covid/2covid (7).jpeg  \n",
            "  inflating: covid/test/covid/2covid (7).jpg  \n",
            "  inflating: covid/test/covid/2covid (7).png  \n",
            "  inflating: covid/test/covid/2covid (8).jpeg  \n",
            "  inflating: covid/test/covid/2covid (8).jpg  \n",
            "  inflating: covid/test/covid/2covid (8).png  \n",
            "  inflating: covid/test/covid/2covid (9).jpeg  \n",
            "  inflating: covid/test/covid/2covid (9).jpg  \n",
            "  inflating: covid/test/covid/2covid (9).png  \n",
            "   creating: covid/test/normal/\n",
            "  inflating: covid/test/normal/2IM-0214-0001.jpeg  \n",
            "  inflating: covid/test/normal/2IM-0215-0001.jpeg  \n",
            "  inflating: covid/test/normal/2IM-0216-0001.jpeg  \n",
            "  inflating: covid/test/normal/2IM-0217-0001.jpeg  \n",
            "  inflating: covid/test/normal/2IM-0218-0001.jpeg  \n",
            "  inflating: covid/test/normal/2IM-0219-0001.jpeg  \n",
            "  inflating: covid/test/normal/2IM-0220-0001.jpeg  \n",
            "  inflating: covid/test/normal/2IM-0221-0001.jpeg  \n",
            "  inflating: covid/test/normal/2IM-0222-0001.jpeg  \n",
            "  inflating: covid/test/normal/2IM-0223-0001.jpeg  \n",
            "  inflating: covid/test/normal/2IM-0225-0001.jpeg  \n",
            "  inflating: covid/test/normal/2IM-0226-0001.jpeg  \n",
            "  inflating: covid/test/normal/2IM-0227-0001.jpeg  \n",
            "  inflating: covid/test/normal/2IM-0228-0001.jpeg  \n",
            "   creating: covid/train/\n",
            "   creating: covid/train/covid/\n",
            "  inflating: covid/train/covid/2covid (13).jpg  \n",
            "  inflating: covid/train/covid/2covid (14).jpeg  \n",
            "  inflating: covid/train/covid/2covid (14).jpg  \n",
            "  inflating: covid/train/covid/2covid (15).jpeg  \n",
            "  inflating: covid/train/covid/2covid (15).jpg  \n",
            "  inflating: covid/train/covid/2covid (16).jpeg  \n",
            "  inflating: covid/train/covid/2covid (16).jpg  \n",
            "  inflating: covid/train/covid/2covid (17).jpeg  \n",
            "  inflating: covid/train/covid/2covid (17).jpg  \n",
            "  inflating: covid/train/covid/2covid (18).jpeg  \n",
            "  inflating: covid/train/covid/2covid (18).jpg  \n",
            "  inflating: covid/train/covid/2covid (19).jpeg  \n",
            "  inflating: covid/train/covid/2covid (19).jpg  \n",
            "  inflating: covid/train/covid/2covid (20).jpeg  \n",
            "  inflating: covid/train/covid/2covid (20).jpg  \n",
            "  inflating: covid/train/covid/2covid (21).jpeg  \n",
            "  inflating: covid/train/covid/2covid (21).jpg  \n",
            "  inflating: covid/train/covid/2covid (22).jpeg  \n",
            "  inflating: covid/train/covid/2covid (22).jpg  \n",
            "  inflating: covid/train/covid/2covid (23).jpeg  \n",
            "  inflating: covid/train/covid/2covid (23).jpg  \n",
            "  inflating: covid/train/covid/2covid (24).jpeg  \n",
            "  inflating: covid/train/covid/2covid (25).jpeg  \n",
            "  inflating: covid/train/covid/2covid (26).jpeg  \n",
            "  inflating: covid/train/covid/2covid (27).jpeg  \n",
            "  inflating: covid/train/covid/2covid (28).jpeg  \n",
            "  inflating: covid/train/covid/2covid (29).jpeg  \n",
            "  inflating: covid/train/covid/2covid (30).jpeg  \n",
            "  inflating: covid/train/covid/2covid (31).jpeg  \n",
            "  inflating: covid/train/covid/2covid (32).jpeg  \n",
            "  inflating: covid/train/covid/2covid (33).jpeg  \n",
            "  inflating: covid/train/covid/2covid (34).jpeg  \n",
            "  inflating: covid/train/covid/2covid (35).jpeg  \n",
            "  inflating: covid/train/covid/2covid (36).jpeg  \n",
            "   creating: covid/train/normal/\n",
            "  inflating: covid/train/normal/2IM-0230-0001.jpeg  \n",
            "  inflating: covid/train/normal/2IM-0234-0001.jpeg  \n",
            "  inflating: covid/train/normal/2IM-0235-0001.jpeg  \n",
            "  inflating: covid/train/normal/2IM-0236-0001.jpeg  \n",
            "  inflating: covid/train/normal/2IM-0238-0001.jpeg  \n",
            "  inflating: covid/train/normal/2IM-0239-0001.jpeg  \n",
            "  inflating: covid/train/normal/2IM-0243-0001.jpeg  \n",
            "  inflating: covid/train/normal/2IM-0248-0001.jpeg  \n",
            "  inflating: covid/train/normal/2IM-0253-0001.jpeg  \n",
            "  inflating: covid/train/normal/2IM-0255-0001.jpeg  \n",
            "  inflating: covid/train/normal/2IM-0256-0001.jpeg  \n",
            "  inflating: covid/train/normal/2IM-0264-0001.jpeg  \n",
            "  inflating: covid/train/normal/2IM-0265-0001.jpeg  \n",
            "  inflating: covid/train/normal/2IM-0266-0001.jpeg  \n"
          ]
        }
      ],
      "source": [
        "!unzip covid.zip -d covid/ "
      ]
    },
    {
      "cell_type": "code",
      "execution_count": 3,
      "metadata": {
        "colab": {
          "base_uri": "https://localhost:8080/"
        },
        "id": "NWbjETBcgqsy",
        "outputId": "7daa9abd-0649-45b8-f40b-c9dc7de6bad3"
      },
      "outputs": [
        {
          "output_type": "stream",
          "name": "stdout",
          "text": [
            "48\n"
          ]
        },
        {
          "output_type": "stream",
          "name": "stderr",
          "text": [
            "/usr/local/lib/python3.10/dist-packages/torch/utils/data/dataloader.py:560: UserWarning: This DataLoader will create 8 worker processes in total. Our suggested max number of worker in current system is 2, which is smaller than what this DataLoader is going to create. Please be aware that excessive worker creation might get DataLoader running slow or even freeze, lower the worker number to avoid potential slowness/freeze if necessary.\n",
            "  warnings.warn(_create_warning_msg(\n"
          ]
        }
      ],
      "source": [
        "data_path = 'covid/train/'\n",
        "transform = transforms.Compose(\n",
        "                [\n",
        "                    transforms.Resize([256, 256]),\n",
        "                    transforms.RandomResizedCrop(224),\n",
        "                    transforms.RandomHorizontalFlip(),\n",
        "                    transforms.ToTensor(),\n",
        "                ])\n",
        "train_dataset = torchvision.datasets.ImageFolder(\n",
        "    data_path,\n",
        "    transform=transform\n",
        ")\n",
        "train_loader = torch.utils.data.DataLoader(\n",
        "    train_dataset,\n",
        "    batch_size=16,\n",
        "    num_workers=8,\n",
        "    shuffle=True\n",
        ")\n",
        "\n",
        "print(len(train_dataset))"
      ]
    },
    {
      "cell_type": "code",
      "execution_count": 5,
      "metadata": {
        "colab": {
          "base_uri": "https://localhost:8080/"
        },
        "id": "jHr0iCmlCZ8G",
        "outputId": "0095cbe9-5b43-49bd-cc1a-640673aa0e9a"
      },
      "outputs": [
        {
          "output_type": "stream",
          "name": "stdout",
          "text": [
            "50\n"
          ]
        }
      ],
      "source": [
        "test_path = 'covid/test/'\n",
        "\n",
        "transform = transforms.Compose(\n",
        "                [\n",
        "                    transforms.Resize(224),\n",
        "                    transforms.CenterCrop(224),\n",
        "                    transforms.ToTensor(),\n",
        "                ])\n",
        "test_dataset = torchvision.datasets.ImageFolder(\n",
        "    root=test_path,\n",
        "    transform=transform\n",
        ")\n",
        "test_loader = torch.utils.data.DataLoader(\n",
        "    test_dataset,\n",
        "    batch_size=16,\n",
        "    num_workers=1,\n",
        "    shuffle=True\n",
        ")\n",
        "\n",
        "print(len(test_dataset))"
      ]
    },
    {
      "cell_type": "code",
      "execution_count": 7,
      "metadata": {
        "id": "X1WrXLbkgwtB"
      },
      "outputs": [],
      "source": [
        "class FashionCNN(nn.Module):    \n",
        "    def __init__(self):\n",
        "        super(FashionCNN, self).__init__()        \n",
        "        self.layer1 = nn.Sequential(\n",
        "            nn.Conv2d(in_channels=3, out_channels=32, kernel_size=3, padding=1),\n",
        "            nn.BatchNorm2d(32),\n",
        "            nn.ReLU(),\n",
        "            nn.MaxPool2d(kernel_size=2, stride=2)\n",
        "        )       \n",
        "        self.layer2 = nn.Sequential(\n",
        "            nn.Conv2d(in_channels=32, out_channels=64, kernel_size=3),\n",
        "            nn.BatchNorm2d(64),\n",
        "            nn.ReLU(),\n",
        "            nn.MaxPool2d(2)\n",
        "        )        \n",
        "        self.fc1 = nn.Linear(in_features=193600, out_features=600)\n",
        "        self.drop = nn.Dropout2d(0.25)\n",
        "        self.fc2 = nn.Linear(in_features=600, out_features=120)\n",
        "        self.fc3 = nn.Linear(in_features=120, out_features=2)\n",
        "        \n",
        "    def forward(self, x):\n",
        "        out = self.layer1(x)\n",
        "        out = self.layer2(out)\n",
        "        out = out.view(out.size(0), -1)\n",
        "        out = self.fc1(out)\n",
        "        out = self.drop(out)\n",
        "        out = self.fc2(out)\n",
        "        out = self.fc3(out)       \n",
        "        return out"
      ]
    },
    {
      "cell_type": "code",
      "execution_count": 8,
      "metadata": {
        "colab": {
          "base_uri": "https://localhost:8080/"
        },
        "id": "2JkzbdbCgxqK",
        "outputId": "45e478b2-b74d-486d-bf53-61d51fba4db1"
      },
      "outputs": [
        {
          "output_type": "stream",
          "name": "stdout",
          "text": [
            "FashionCNN(\n",
            "  (layer1): Sequential(\n",
            "    (0): Conv2d(3, 32, kernel_size=(3, 3), stride=(1, 1), padding=(1, 1))\n",
            "    (1): BatchNorm2d(32, eps=1e-05, momentum=0.1, affine=True, track_running_stats=True)\n",
            "    (2): ReLU()\n",
            "    (3): MaxPool2d(kernel_size=2, stride=2, padding=0, dilation=1, ceil_mode=False)\n",
            "  )\n",
            "  (layer2): Sequential(\n",
            "    (0): Conv2d(32, 64, kernel_size=(3, 3), stride=(1, 1))\n",
            "    (1): BatchNorm2d(64, eps=1e-05, momentum=0.1, affine=True, track_running_stats=True)\n",
            "    (2): ReLU()\n",
            "    (3): MaxPool2d(kernel_size=2, stride=2, padding=0, dilation=1, ceil_mode=False)\n",
            "  )\n",
            "  (fc1): Linear(in_features=193600, out_features=600, bias=True)\n",
            "  (drop): Dropout2d(p=0.25, inplace=False)\n",
            "  (fc2): Linear(in_features=600, out_features=120, bias=True)\n",
            "  (fc3): Linear(in_features=120, out_features=2, bias=True)\n",
            ")\n"
          ]
        }
      ],
      "source": [
        "device = torch.device(\"cuda\" if torch.cuda.is_available() else \"cpu\")\n",
        "\n",
        "learning_rate = 0.001;\n",
        "model = FashionCNN();\n",
        "model.to(device)\n",
        "\n",
        "\n",
        "criterion = nn.CrossEntropyLoss();\n",
        "optimizer = torch.optim.Adam(model.parameters(), lr=learning_rate);\n",
        "print(model)"
      ]
    },
    {
      "cell_type": "code",
      "execution_count": 9,
      "metadata": {
        "id": "Yda5YVqh0MN7"
      },
      "outputs": [],
      "source": [
        "def train_model(model, dataloaders, criterion, optimizer, device, num_epochs=10, is_train=True):\n",
        "    since = time.time()    \n",
        "    acc_history = []\n",
        "    loss_history = []\n",
        "    best_acc = 0.0\n",
        "    \n",
        "    for epoch in range(num_epochs):\n",
        "        print('Epoch {}/{}'.format(epoch, num_epochs - 1))\n",
        "        print('-' * 10)\n",
        "\n",
        "        running_loss = 0.0\n",
        "        running_corrects = 0\n",
        "\n",
        "        for inputs, labels in dataloaders:\n",
        "            inputs = inputs.to(device)\n",
        "            labels = labels.to(device)\n",
        "            \n",
        "            model.to(device)\n",
        "            optimizer.zero_grad()\n",
        "            outputs = model(inputs)\n",
        "            loss = criterion(outputs, labels)\n",
        "            _, preds = torch.max(outputs, 1)\n",
        "            loss.backward()\n",
        "            optimizer.step()\n",
        "\n",
        "            running_loss += loss.item() * inputs.size(0)\n",
        "            running_corrects += torch.sum(preds == labels.data)\n",
        "\n",
        "        epoch_loss = running_loss / len(dataloaders.dataset)\n",
        "        epoch_acc = running_corrects.double() / len(dataloaders.dataset)\n",
        "\n",
        "        print('Loss: {:.4f} Acc: {:.4f}'.format(epoch_loss, epoch_acc))\n",
        "\n",
        "        if epoch_acc > best_acc:\n",
        "            best_acc = epoch_acc\n",
        "\n",
        "        acc_history.append(epoch_acc.item())\n",
        "        loss_history.append(epoch_loss)        \n",
        "        torch.save(model.state_dict(), os.path.join('covid/', '{0:0=2d}.pth'.format(epoch)))\n",
        "        print()\n",
        "\n",
        "    time_elapsed = time.time() - since\n",
        "    print('Training complete in {:.0f}m {:.0f}s'.format(time_elapsed // 60, time_elapsed % 60))\n",
        "    print('Best Acc: {:4f}'.format(best_acc))    \n",
        "    return acc_history, loss_history"
      ]
    },
    {
      "cell_type": "code",
      "execution_count": 10,
      "metadata": {
        "colab": {
          "base_uri": "https://localhost:8080/"
        },
        "id": "zZJfKKst0OwH",
        "outputId": "b8f2aab8-41dc-443a-d26f-ae4b09cdbf5d"
      },
      "outputs": [
        {
          "output_type": "stream",
          "name": "stdout",
          "text": [
            "Epoch 0/9\n",
            "----------\n"
          ]
        },
        {
          "output_type": "stream",
          "name": "stderr",
          "text": [
            "/usr/local/lib/python3.10/dist-packages/torch/nn/functional.py:1331: UserWarning: dropout2d: Received a 2-D input to dropout2d, which is deprecated and will result in an error in a future release. To retain the behavior and silence this warning, please use dropout instead. Note that dropout2d exists to provide channel-wise dropout on inputs with 2 spatial dimensions, a channel dimension, and an optional batch dimension (i.e. 3D or 4D inputs).\n",
            "  warnings.warn(warn_msg)\n"
          ]
        },
        {
          "output_type": "stream",
          "name": "stdout",
          "text": [
            "Loss: 89.5180 Acc: 0.6042\n",
            "\n",
            "Epoch 1/9\n",
            "----------\n",
            "Loss: 134.8462 Acc: 0.4375\n",
            "\n",
            "Epoch 2/9\n",
            "----------\n",
            "Loss: 52.4850 Acc: 0.7292\n",
            "\n",
            "Epoch 3/9\n",
            "----------\n",
            "Loss: 47.9560 Acc: 0.6458\n",
            "\n",
            "Epoch 4/9\n",
            "----------\n",
            "Loss: 23.2715 Acc: 0.7708\n",
            "\n",
            "Epoch 5/9\n",
            "----------\n",
            "Loss: 59.7219 Acc: 0.8125\n",
            "\n",
            "Epoch 6/9\n",
            "----------\n",
            "Loss: 34.6883 Acc: 0.8333\n",
            "\n",
            "Epoch 7/9\n",
            "----------\n",
            "Loss: 16.5490 Acc: 0.7917\n",
            "\n",
            "Epoch 8/9\n",
            "----------\n",
            "Loss: 3.7360 Acc: 0.8958\n",
            "\n",
            "Epoch 9/9\n",
            "----------\n",
            "Loss: 12.3528 Acc: 0.8333\n",
            "\n",
            "Training complete in 3m 4s\n",
            "Best Acc: 0.895833\n"
          ]
        }
      ],
      "source": [
        "train_acc_hist, train_loss_hist = train_model(model, train_loader, criterion, optimizer, device)"
      ]
    },
    {
      "cell_type": "code",
      "execution_count": 11,
      "metadata": {
        "id": "CkrayGp2CIzj"
      },
      "outputs": [],
      "source": [
        "\n",
        "def eval_model(model, dataloaders, device):\n",
        "    since = time.time()    \n",
        "    acc_history = []\n",
        "    loss_history = [] \n",
        "    best_acc = 0.0\n",
        "\n",
        "    saved_models = glob.glob('covid/' + '*.pth')\n",
        "    saved_models.sort()\n",
        "    print('saved_model', saved_models)\n",
        "\n",
        "    for model_path in saved_models:\n",
        "        print('Loading model', model_path)\n",
        "\n",
        "        model.load_state_dict(torch.load(model_path))\n",
        "        model.eval()\n",
        "        model.to(device)\n",
        "        running_corrects = 0\n",
        "        running_loss = 0.0  \n",
        "\n",
        "        for inputs, labels in dataloaders:\n",
        "            inputs = inputs.to(device)\n",
        "            labels = labels.to(device)\n",
        "\n",
        "            with torch.no_grad():\n",
        "                outputs = model(inputs)\n",
        "\n",
        "            _, preds = torch.max(outputs.data, 1)           \n",
        "            preds[preds >= 0.5] = 1\n",
        "            preds[preds < 0.5] = 0\n",
        "            running_corrects += preds.eq(labels).int().sum()\n",
        "\n",
        "            loss = criterion(outputs, labels) \n",
        "            running_loss += loss.item() * inputs.size(0)  \n",
        "\n",
        "        epoch_acc = running_corrects.double() / len(dataloaders.dataset)\n",
        "        epoch_loss = running_loss / len(dataloaders.dataset) \n",
        "        print('Acc: {:.4f}, Loss: {:.4f}'.format(epoch_acc, epoch_loss))\n",
        "        \n",
        "        if epoch_acc > best_acc:\n",
        "            best_acc = epoch_acc\n",
        "\n",
        "        acc_history.append(epoch_acc.item())\n",
        "        loss_history.append(epoch_loss)  \n",
        "        print()\n",
        "\n",
        "    time_elapsed = time.time() - since\n",
        "    print('Validation complete in {:.0f}m {:.0f}s'.format(time_elapsed // 60, time_elapsed % 60))\n",
        "    print('Best Acc: {:4f}'.format(best_acc))\n",
        "    \n",
        "    # 손실 그래프 그리기\n",
        "    plt.figure()\n",
        "    plt.plot(loss_history)\n",
        "    plt.xlabel('Epoch')\n",
        "    plt.ylabel('Loss')\n",
        "    plt.title('loss_history')\n",
        "    plt.show()\n",
        "    \n",
        "    return acc_history\n",
        "\n",
        "\n",
        "\n"
      ]
    },
    {
      "cell_type": "code",
      "execution_count": 12,
      "metadata": {
        "colab": {
          "base_uri": "https://localhost:8080/",
          "height": 1000
        },
        "id": "4PVPYMaezCYL",
        "outputId": "dc093530-79ff-4f8f-f7e3-fe77edf48f44"
      },
      "outputs": [
        {
          "output_type": "stream",
          "name": "stdout",
          "text": [
            "saved_model ['covid/00.pth', 'covid/01.pth', 'covid/02.pth', 'covid/03.pth', 'covid/04.pth', 'covid/05.pth', 'covid/06.pth', 'covid/07.pth', 'covid/08.pth', 'covid/09.pth']\n",
            "Loading model covid/00.pth\n",
            "Acc: 0.2800, Loss: 33.8809\n",
            "\n",
            "Loading model covid/01.pth\n",
            "Acc: 0.7200, Loss: 26.2900\n",
            "\n",
            "Loading model covid/02.pth\n",
            "Acc: 0.7200, Loss: 14.6885\n",
            "\n",
            "Loading model covid/03.pth\n",
            "Acc: 0.7800, Loss: 6.6662\n",
            "\n",
            "Loading model covid/04.pth\n",
            "Acc: 0.7200, Loss: 61.8454\n",
            "\n",
            "Loading model covid/05.pth\n",
            "Acc: 0.7200, Loss: 65.8286\n",
            "\n",
            "Loading model covid/06.pth\n",
            "Acc: 0.7000, Loss: 14.1432\n",
            "\n",
            "Loading model covid/07.pth\n",
            "Acc: 0.8400, Loss: 5.1700\n",
            "\n",
            "Loading model covid/08.pth\n",
            "Acc: 0.7200, Loss: 21.0104\n",
            "\n",
            "Loading model covid/09.pth\n",
            "Acc: 0.7200, Loss: 12.9534\n",
            "\n",
            "Validation complete in 1m 2s\n",
            "Best Acc: 0.840000\n"
          ]
        },
        {
          "output_type": "display_data",
          "data": {
            "text/plain": [
              "<Figure size 640x480 with 1 Axes>"
            ],
            "image/png": "[encoded data removed]"
          },
          "metadata": {}
        }
      ],
      "source": [
        "val_acc_hist = eval_model(model, test_loader, device)"
      ]
    },
    {
      "cell_type": "code",
      "execution_count": 13,
      "metadata": {
        "colab": {
          "base_uri": "https://localhost:8080/",
          "height": 449
        },
        "id": "kC4aSaMRCkEx",
        "outputId": "d7876863-a174-4d12-ac55-a42183ddecb2"
      },
      "outputs": [
        {
          "output_type": "display_data",
          "data": {
            "text/plain": [
              "<Figure size 640x480 with 1 Axes>"
            ],
            "image/png": "[encoded data removed]"
          },
          "metadata": {}
        }
      ],
      "source": [
        "plt.plot(train_acc_hist, label='Train Accuracy')\n",
        "plt.plot(val_acc_hist,label='Test Accuracy')#test\n",
        "plt.xlabel('Epoch')\n",
        "plt.ylabel('Accuracy')\n",
        "plt.legend()\n",
        "\n",
        "\n",
        "\n",
        "plt.show()"
      ]
    },
    {
      "cell_type": "code",
      "execution_count": 14,
      "metadata": {
        "colab": {
          "base_uri": "https://localhost:8080/",
          "height": 450
        },
        "id": "aWXuB6uyzute",
        "outputId": "b4c39345-4b64-4d70-d4f2-3dbe7dd11593"
      },
      "outputs": [
        {
          "output_type": "display_data",
          "data": {
            "text/plain": [
              "<Figure size 640x480 with 1 Axes>"
            ],
            "image/png": "[encoded data removed]"
          },
          "metadata": {}
        },
        {
          "output_type": "display_data",
          "data": {
            "text/plain": [
              "<Figure size 640x480 with 0 Axes>"
            ]
          },
          "metadata": {}
        }
      ],
      "source": [
        "plt.plot(train_loss_hist,label='train_loss_hist')\n",
        "plt.figure()\n",
        "plt.show()"
      ]
    },
    {
      "cell_type": "code",
      "execution_count": 21,
      "metadata": {
        "id": "60FnjZL_m46F"
      },
      "outputs": [],
      "source": [
        "from sklearn.manifold import TSNE\n",
        "tsne = TSNE(n_components=2, random_state=0)\n",
        "cluster = np.array(tsne.fit_transform(np.array(deep_features)))\n",
        "actual = np.array(actual)"
      ]
    },
    {
      "cell_type": "code",
      "execution_count": 22,
      "metadata": {
        "colab": {
          "base_uri": "https://localhost:8080/",
          "height": 445
        },
        "id": "Vki3vgDYm5nc",
        "outputId": "8fb256c9-6a67-4a21-8614-7c3160d7f837"
      },
      "outputs": [
        {
          "output_type": "display_data",
          "data": {
            "text/plain": [
              "<Figure size 500x500 with 1 Axes>"
            ],
            "image/png": "[encoded data removed]"
          },
          "metadata": {}
        }
      ],
      "source": [
        "plt.figure(figsize=(5, 5))\n",
        "name = ['covid','normal']\n",
        "for i, label in zip(range(2), name):\n",
        "    idx = np.where(actual == i)\n",
        "    plt.scatter(cluster[idx, 0], cluster[idx, 1], marker='+', label=label)\n",
        "\n",
        "plt.legend()\n",
        "plt.show()"
      ]
    }
  ],
  "metadata": {
    "colab": {
      "provenance": []
    },
    "kernelspec": {
      "display_name": "Python 3",
      "name": "python3"
    },
    "language_info": {
      "name": "python"
    }
  },
  "nbformat": 4,
  "nbformat_minor": 0
}